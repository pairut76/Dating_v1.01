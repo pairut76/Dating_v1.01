{
 "cells": [
  {
   "cell_type": "markdown",
   "metadata": {
    "colab_type": "text",
    "id": "Zql2gEmVZyjO"
   },
   "source": [
    "                                        Dating V1.01\n",
    "\n",
    "\n",
    "Dating can be difficult during this day and age. Especially with online dating - how can you enable yourself to compete with others or to stand above others? From extensive research and data accumulated from a Professor from Columbia Business School, we will examine the dataset and narrow down by gender and what they are looking for their potential partner. Keep in mind, the dataset is not generalized enough to include the entire population - the data is well intended for college students or age groups between 20 and some early 30s. Outside the scope or range identified will not be valid.\n",
    "\n",
    "First, let's get a breif background of the datasets. The data is collected from speed dating which includes many different characteristics, attributes, and also opinions. In more details, the data consist of participant's basic background such as age and gender to questionaire before and after the speed dating, also basic questions of what participants are looking for in their potential partners. There are 195 different categories of information! We will only focus on specific information - specifically what these approximately 8,000 participants thoughts and opinions in a potential partner.\n",
    "\n",
    "Let's dive in a have a look at the data!"
   ]
  },
  {
   "cell_type": "code",
   "execution_count": 1,
   "metadata": {
    "colab": {},
    "colab_type": "code",
    "id": "ekqKygb3ZyjP"
   },
   "outputs": [],
   "source": [
    "import pandas as pd\n",
    "import numpy as np\n",
    "from scipy import stats\n",
    "import matplotlib.pyplot as plt\n",
    "import seaborn as sns"
   ]
  },
  {
   "cell_type": "code",
   "execution_count": 2,
   "metadata": {
    "colab": {},
    "colab_type": "code",
    "id": "_fBtMmp9ZyjY"
   },
   "outputs": [],
   "source": [
    "#Download data set from here:\n",
    "#https://www.kaggle.com/annavictoria/speed-dating-experiment\n",
    "\n",
    "data = pd.read_csv('Speed Dating Data.csv', engine='python')\n",
    "#data = pd.read_csv('/content/Speed Dating Data.csv', engine = 'python')\n"
   ]
  },
  {
   "cell_type": "code",
   "execution_count": 3,
   "metadata": {
    "colab": {},
    "colab_type": "code",
    "id": "M1Ae7tA7Zyje",
    "outputId": "34d180c1-08d0-4b10-b5c5-5ffce7465caf"
   },
   "outputs": [
    {
     "name": "stdout",
     "output_type": "stream",
     "text": [
      "   iid   id  gender  idg  condtn  wave  round  position  positin1  order  ...  \\\n",
      "0    1  1.0       0    1       1     1     10         7       NaN      4  ...   \n",
      "1    1  1.0       0    1       1     1     10         7       NaN      3  ...   \n",
      "2    1  1.0       0    1       1     1     10         7       NaN     10  ...   \n",
      "3    1  1.0       0    1       1     1     10         7       NaN      5  ...   \n",
      "4    1  1.0       0    1       1     1     10         7       NaN      7  ...   \n",
      "\n",
      "   attr3_3  sinc3_3  intel3_3  fun3_3  amb3_3  attr5_3  sinc5_3  intel5_3  \\\n",
      "0      5.0      7.0       7.0     7.0     7.0      NaN      NaN       NaN   \n",
      "1      5.0      7.0       7.0     7.0     7.0      NaN      NaN       NaN   \n",
      "2      5.0      7.0       7.0     7.0     7.0      NaN      NaN       NaN   \n",
      "3      5.0      7.0       7.0     7.0     7.0      NaN      NaN       NaN   \n",
      "4      5.0      7.0       7.0     7.0     7.0      NaN      NaN       NaN   \n",
      "\n",
      "   fun5_3  amb5_3  \n",
      "0     NaN     NaN  \n",
      "1     NaN     NaN  \n",
      "2     NaN     NaN  \n",
      "3     NaN     NaN  \n",
      "4     NaN     NaN  \n",
      "\n",
      "[5 rows x 195 columns]\n",
      "<class 'pandas.core.frame.DataFrame'>\n",
      "RangeIndex: 8378 entries, 0 to 8377\n",
      "Columns: 195 entries, iid to amb5_3\n",
      "dtypes: float64(174), int64(13), object(8)\n",
      "memory usage: 12.5+ MB\n",
      "None\n"
     ]
    }
   ],
   "source": [
    "print(data.head())\n",
    "print(data.info())"
   ]
  },
  {
   "cell_type": "markdown",
   "metadata": {
    "colab_type": "text",
    "id": "d3lUhGWpZyjl"
   },
   "source": [
    "As we can see here examining the dataset - there are many columns and information. Links to the dataset can be found here:\n",
    "\n",
    "https://www.kaggle.com/annavictoria/speed-dating-experiment\n",
    "\n",
    "This also contains information and explanation on the layout of the columns.\n",
    "We would like to explore and test that\n",
    "\n",
    "Males tend to look more for attractiveness versus females in a relationship - among the age group between 20 and 30 who are college students\n",
    "\n",
    "Now, as mentioned before, we will only examine certain parts of the data - so let's filter only the columns we need."
   ]
  },
  {
   "cell_type": "code",
   "execution_count": 4,
   "metadata": {
    "colab": {},
    "colab_type": "code",
    "id": "kVJU23IZZyjm",
    "outputId": "8bb44e54-8c0f-4707-8139-ebec00012fe0"
   },
   "outputs": [
    {
     "name": "stdout",
     "output_type": "stream",
     "text": [
      "   gender   age  attr1_1  sinc1_1  intel1_1  fun1_1  amb1_1  shar1_1\n",
      "0       0  21.0     15.0     20.0      20.0    15.0    15.0     15.0\n",
      "1       0  21.0     15.0     20.0      20.0    15.0    15.0     15.0\n",
      "2       0  21.0     15.0     20.0      20.0    15.0    15.0     15.0\n",
      "3       0  21.0     15.0     20.0      20.0    15.0    15.0     15.0\n",
      "4       0  21.0     15.0     20.0      20.0    15.0    15.0     15.0\n",
      "<class 'pandas.core.frame.DataFrame'>\n",
      "RangeIndex: 8378 entries, 0 to 8377\n",
      "Data columns (total 8 columns):\n",
      "gender      8378 non-null int64\n",
      "age         8283 non-null float64\n",
      "attr1_1     8299 non-null float64\n",
      "sinc1_1     8299 non-null float64\n",
      "intel1_1    8299 non-null float64\n",
      "fun1_1      8289 non-null float64\n",
      "amb1_1      8279 non-null float64\n",
      "shar1_1     8257 non-null float64\n",
      "dtypes: float64(7), int64(1)\n",
      "memory usage: 523.7 KB\n",
      "None\n"
     ]
    }
   ],
   "source": [
    "Filter = data[['gender', 'age', 'attr1_1', 'sinc1_1', 'intel1_1', 'fun1_1', 'amb1_1', 'shar1_1']]\n",
    "print(Filter.head())\n",
    "print(Filter.info())"
   ]
  },
  {
   "cell_type": "markdown",
   "metadata": {
    "colab_type": "text",
    "id": "CRq4U6UkZyjr"
   },
   "source": [
    "Breaking down the dataset we are left with the basic background of age and gender. We will examine 6 particular qualities/traits respectively follows:\n",
    "\n",
    "Attractive\n",
    "Sincere\n",
    "Intelligent\n",
    "Fun\n",
    "Ambitious\n",
    "Shared Interests\n",
    "\n",
    "Each participants in the data set are given 100 points to allocate to the 6 qualities from above - the more the points allocated for a category, the more important that category is for that participant. Also true, the least the points allocated to a category, the least the importance of that category for that partipant.\n",
    "\n",
    "We will break this data further now by gender."
   ]
  },
  {
   "cell_type": "code",
   "execution_count": 5,
   "metadata": {
    "colab": {},
    "colab_type": "code",
    "id": "uQ9S0HxDZyjs"
   },
   "outputs": [],
   "source": [
    "#Before we seperate the data into males vs femalse, let's make sure the data provided is also correct.\n",
    "#I have incorporated another column to add up all the values of the attributes to make sure that we see all\n",
    "#the values appropriately adds up to 100\n",
    "\n",
    "pd.set_option('mode.chained_assignment', None) #turn off warning on operation assignment below\n",
    "temp = Filter['attr1_1'] + Filter['sinc1_1'] + Filter['intel1_1'] + Filter['fun1_1'] + Filter['amb1_1'] + Filter['shar1_1']\n",
    "Filter['Check'] = temp\n"
   ]
  },
  {
   "cell_type": "code",
   "execution_count": 6,
   "metadata": {
    "colab": {},
    "colab_type": "code",
    "id": "bS2e4TsXZyjx",
    "outputId": "89aac067-5775-46f0-c728-361f34317b34"
   },
   "outputs": [
    {
     "name": "stdout",
     "output_type": "stream",
     "text": [
      "\n",
      "MALE\n",
      "\n",
      "     gender   age  attr1_1  sinc1_1  intel1_1  fun1_1  amb1_1  shar1_1  Check\n",
      "100       1  27.0     35.0     20.0      20.0    20.0     0.0      5.0  100.0\n",
      "101       1  27.0     35.0     20.0      20.0    20.0     0.0      5.0  100.0\n",
      "102       1  27.0     35.0     20.0      20.0    20.0     0.0      5.0  100.0\n",
      "103       1  27.0     35.0     20.0      20.0    20.0     0.0      5.0  100.0\n",
      "104       1  27.0     35.0     20.0      20.0    20.0     0.0      5.0  100.0\n",
      "<class 'pandas.core.frame.DataFrame'>\n",
      "Int64Index: 4194 entries, 100 to 8377\n",
      "Data columns (total 9 columns):\n",
      "gender      4194 non-null int64\n",
      "age         4164 non-null float64\n",
      "attr1_1     4174 non-null float64\n",
      "sinc1_1     4174 non-null float64\n",
      "intel1_1    4174 non-null float64\n",
      "fun1_1      4164 non-null float64\n",
      "amb1_1      4154 non-null float64\n",
      "shar1_1     4154 non-null float64\n",
      "Check       4154 non-null float64\n",
      "dtypes: float64(8), int64(1)\n",
      "memory usage: 327.7 KB\n",
      "None\n",
      "\n",
      "\n",
      "\n",
      "FEMALE\n",
      "\n",
      "   gender   age  attr1_1  sinc1_1  intel1_1  fun1_1  amb1_1  shar1_1  Check\n",
      "0       0  21.0     15.0     20.0      20.0    15.0    15.0     15.0  100.0\n",
      "1       0  21.0     15.0     20.0      20.0    15.0    15.0     15.0  100.0\n",
      "2       0  21.0     15.0     20.0      20.0    15.0    15.0     15.0  100.0\n",
      "3       0  21.0     15.0     20.0      20.0    15.0    15.0     15.0  100.0\n",
      "4       0  21.0     15.0     20.0      20.0    15.0    15.0     15.0  100.0\n",
      "<class 'pandas.core.frame.DataFrame'>\n",
      "Int64Index: 4184 entries, 0 to 7893\n",
      "Data columns (total 9 columns):\n",
      "gender      4184 non-null int64\n",
      "age         4119 non-null float64\n",
      "attr1_1     4125 non-null float64\n",
      "sinc1_1     4125 non-null float64\n",
      "intel1_1    4125 non-null float64\n",
      "fun1_1      4125 non-null float64\n",
      "amb1_1      4125 non-null float64\n",
      "shar1_1     4103 non-null float64\n",
      "Check       4103 non-null float64\n",
      "dtypes: float64(8), int64(1)\n",
      "memory usage: 326.9 KB\n",
      "None\n"
     ]
    }
   ],
   "source": [
    "Male = Filter[Filter['gender'] == 1]\n",
    "Female = Filter[Filter['gender'] == 0]\n",
    "print('\\nMALE\\n')\n",
    "print(Male.head())\n",
    "print(Male.info())\n",
    "print('\\n')\n",
    "print('\\nFEMALE\\n')\n",
    "print(Female.head())\n",
    "print(Female.info())"
   ]
  },
  {
   "cell_type": "markdown",
   "metadata": {
    "colab_type": "text",
    "id": "esgYMyv5Zyj1"
   },
   "source": [
    "As we can see here - there are more males than females in the dataset, how is this possible? Good question, the participants are shuffled in the speed dating experiment. Also for simplicity, let's assume the data set presumes participants are looking for the opposite sex to date.\n",
    "\n",
    "Review the data further - check for any invalid values in the data set."
   ]
  },
  {
   "cell_type": "code",
   "execution_count": 7,
   "metadata": {
    "colab": {},
    "colab_type": "code",
    "id": "gZaZqdMzZyj2",
    "outputId": "6d8c8499-7418-49d0-d959-45ea0e289c12"
   },
   "outputs": [
    {
     "name": "stdout",
     "output_type": "stream",
     "text": [
      "False    4194\n",
      "Name: gender, dtype: int64\n",
      "False    4164\n",
      "True       30\n",
      "Name: age, dtype: int64\n",
      "False    4174\n",
      "True       20\n",
      "Name: attr1_1, dtype: int64\n",
      "False    4174\n",
      "True       20\n",
      "Name: sinc1_1, dtype: int64\n",
      "False    4174\n",
      "True       20\n",
      "Name: intel1_1, dtype: int64\n",
      "False    4164\n",
      "True       30\n",
      "Name: fun1_1, dtype: int64\n",
      "False    4154\n",
      "True       40\n",
      "Name: amb1_1, dtype: int64\n",
      "False    4154\n",
      "True       40\n",
      "Name: shar1_1, dtype: int64\n",
      "False    4154\n",
      "True       40\n",
      "Name: Check, dtype: int64\n"
     ]
    }
   ],
   "source": [
    "filter_male = Male.isna()\n",
    "col = filter_male.columns\n",
    "for i in col:\n",
    "    print(filter_male[i].value_counts())\n",
    "    #Male = Male.loc[filter_male[i]]"
   ]
  },
  {
   "cell_type": "code",
   "execution_count": 8,
   "metadata": {
    "colab": {},
    "colab_type": "code",
    "id": "CzhVraWDZyj6",
    "outputId": "65272513-974a-433f-88ae-d5e982cfb91f"
   },
   "outputs": [
    {
     "name": "stdout",
     "output_type": "stream",
     "text": [
      "False    4184\n",
      "Name: gender, dtype: int64\n",
      "False    4119\n",
      "True       65\n",
      "Name: age, dtype: int64\n",
      "False    4125\n",
      "True       59\n",
      "Name: attr1_1, dtype: int64\n",
      "False    4125\n",
      "True       59\n",
      "Name: sinc1_1, dtype: int64\n",
      "False    4125\n",
      "True       59\n",
      "Name: intel1_1, dtype: int64\n",
      "False    4125\n",
      "True       59\n",
      "Name: fun1_1, dtype: int64\n",
      "False    4125\n",
      "True       59\n",
      "Name: amb1_1, dtype: int64\n",
      "False    4103\n",
      "True       81\n",
      "Name: shar1_1, dtype: int64\n",
      "False    4103\n",
      "True       81\n",
      "Name: Check, dtype: int64\n"
     ]
    }
   ],
   "source": [
    "filter_female = Female.isna()\n",
    "col = filter_female.columns\n",
    "for i in col:\n",
    "    print(filter_female[i].value_counts())\n",
    "    #Female = Female.loc[filter_female[i]]"
   ]
  },
  {
   "cell_type": "markdown",
   "metadata": {
    "colab_type": "text",
    "id": "IF1e2wvBZyj-"
   },
   "source": [
    "There are some invalid characters entered into the data set - such as 'decimal points' or non integers. For simplicity, we will ignore those entries, because in both males and females dropping those rows in insignificant to the sample size we already have available. This will not compromise the information as the sample size is large enough to draw conclusions/run tests."
   ]
  },
  {
   "cell_type": "code",
   "execution_count": 9,
   "metadata": {
    "colab": {},
    "colab_type": "code",
    "id": "MAISTVdZZyj_",
    "outputId": "ae29577c-d56e-4e6c-8fff-66455984f012"
   },
   "outputs": [
    {
     "name": "stdout",
     "output_type": "stream",
     "text": [
      "\n",
      "MALE\n",
      "\n",
      "     gender   age  attr1_1  sinc1_1  intel1_1  fun1_1  amb1_1  shar1_1  Check\n",
      "100       1  27.0     35.0     20.0      20.0    20.0     0.0      5.0  100.0\n",
      "101       1  27.0     35.0     20.0      20.0    20.0     0.0      5.0  100.0\n",
      "102       1  27.0     35.0     20.0      20.0    20.0     0.0      5.0  100.0\n",
      "103       1  27.0     35.0     20.0      20.0    20.0     0.0      5.0  100.0\n",
      "104       1  27.0     35.0     20.0      20.0    20.0     0.0      5.0  100.0\n",
      "<class 'pandas.core.frame.DataFrame'>\n",
      "Int64Index: 4154 entries, 100 to 8377\n",
      "Data columns (total 9 columns):\n",
      "gender      4154 non-null int64\n",
      "age         4154 non-null float64\n",
      "attr1_1     4154 non-null float64\n",
      "sinc1_1     4154 non-null float64\n",
      "intel1_1    4154 non-null float64\n",
      "fun1_1      4154 non-null float64\n",
      "amb1_1      4154 non-null float64\n",
      "shar1_1     4154 non-null float64\n",
      "Check       4154 non-null float64\n",
      "dtypes: float64(8), int64(1)\n",
      "memory usage: 324.5 KB\n",
      "None\n",
      "\n",
      "\n",
      "\n",
      "FEMALE\n",
      "\n",
      "   gender   age  attr1_1  sinc1_1  intel1_1  fun1_1  amb1_1  shar1_1  Check\n",
      "0       0  21.0     15.0     20.0      20.0    15.0    15.0     15.0  100.0\n",
      "1       0  21.0     15.0     20.0      20.0    15.0    15.0     15.0  100.0\n",
      "2       0  21.0     15.0     20.0      20.0    15.0    15.0     15.0  100.0\n",
      "3       0  21.0     15.0     20.0      20.0    15.0    15.0     15.0  100.0\n",
      "4       0  21.0     15.0     20.0      20.0    15.0    15.0     15.0  100.0\n",
      "<class 'pandas.core.frame.DataFrame'>\n",
      "Int64Index: 4081 entries, 0 to 7893\n",
      "Data columns (total 9 columns):\n",
      "gender      4081 non-null int64\n",
      "age         4081 non-null float64\n",
      "attr1_1     4081 non-null float64\n",
      "sinc1_1     4081 non-null float64\n",
      "intel1_1    4081 non-null float64\n",
      "fun1_1      4081 non-null float64\n",
      "amb1_1      4081 non-null float64\n",
      "shar1_1     4081 non-null float64\n",
      "Check       4081 non-null float64\n",
      "dtypes: float64(8), int64(1)\n",
      "memory usage: 318.8 KB\n",
      "None\n"
     ]
    }
   ],
   "source": [
    "Male.dropna(inplace = True)\n",
    "Female.dropna(inplace = True)\n",
    "print('\\nMALE\\n')\n",
    "print(Male.head())\n",
    "print(Male.info())\n",
    "print('\\n')\n",
    "print('\\nFEMALE\\n')\n",
    "print(Female.head())\n",
    "print(Female.info())"
   ]
  },
  {
   "cell_type": "markdown",
   "metadata": {
    "colab_type": "text",
    "id": "3Jhws7gGZykD"
   },
   "source": [
    "Now let's visualize the data!\n",
    "Here we will examine closely and compare the different attributes between male versus female by using a boxplot"
   ]
  },
  {
   "cell_type": "code",
   "execution_count": 10,
   "metadata": {
    "colab": {},
    "colab_type": "code",
    "id": "xqd4x7FEZykE",
    "outputId": "bf300f86-e066-4403-c27d-aaf31e604add"
   },
   "outputs": [
    {
     "data": {
      "text/plain": [
       "<matplotlib.axes._subplots.AxesSubplot at 0xdb904e0>"
      ]
     },
     "execution_count": 10,
     "metadata": {},
     "output_type": "execute_result"
    },
    {
     "data": {
      "image/png": "[encoded data removed]",
      "text/plain": [
       "<Figure size 432x288 with 1 Axes>"
      ]
     },
     "metadata": {
      "needs_background": "light"
     },
     "output_type": "display_data"
    }
   ],
   "source": [
    "Male.boxplot(column = ['attr1_1', 'sinc1_1', 'intel1_1', 'fun1_1', 'amb1_1', 'shar1_1'])"
   ]
  },
  {
   "cell_type": "code",
   "execution_count": 11,
   "metadata": {
    "colab": {},
    "colab_type": "code",
    "id": "YU2g9MK8ZykI",
    "outputId": "38fef9fc-081f-44bb-f69f-d6b7c06ce467"
   },
   "outputs": [
    {
     "data": {
      "text/plain": [
       "<matplotlib.axes._subplots.AxesSubplot at 0xd71ea90>"
      ]
     },
     "execution_count": 11,
     "metadata": {},
     "output_type": "execute_result"
    },
    {
     "data": {
      "image/png": "[encoded data removed]",
      "text/plain": [
       "<Figure size 432x288 with 1 Axes>"
      ]
     },
     "metadata": {
      "needs_background": "light"
     },
     "output_type": "display_data"
    }
   ],
   "source": [
    "Female.boxplot(column = ['attr1_1', 'sinc1_1', 'intel1_1', 'fun1_1', 'amb1_1', 'shar1_1'])"
   ]
  },
  {
   "cell_type": "markdown",
   "metadata": {
    "colab_type": "text",
    "id": "Wt3oH9kCZykN"
   },
   "source": [
    "From the boxplots above we can see a lot of outliers along withthe density of the particular characteristics chosen between Males and Females. The Male population appears to allocate a lot of points towards attractiveness.\n",
    "\n",
    "\n",
    "Let's conduct some tests to see correlations. Here are more visual represenations also information of the skewness and kurtosis of the data.\n"
   ]
  },
  {
   "cell_type": "code",
   "execution_count": 12,
   "metadata": {
    "colab": {},
    "colab_type": "code",
    "id": "uO6GNL_VZykP",
    "outputId": "5c9510dc-1512-43f4-c733-738286b49601",
    "scrolled": true
   },
   "outputs": [
    {
     "data": {
      "text/plain": [
       "<matplotlib.axes._subplots.AxesSubplot at 0xd46b240>"
      ]
     },
     "execution_count": 12,
     "metadata": {},
     "output_type": "execute_result"
    },
    {
     "data": {
      "image/png": "[encoded data removed]",
      "text/plain": [
       "<Figure size 1080x720 with 1 Axes>"
      ]
     },
     "metadata": {
      "needs_background": "light"
     },
     "output_type": "display_data"
    }
   ],
   "source": [
    "plt.figure(figsize = (15,10))\n",
    "sns.distplot(Male['attr1_1'])\n",
    "sns.distplot(Female['attr1_1'])"
   ]
  },
  {
   "cell_type": "markdown",
   "metadata": {
    "colab_type": "text",
    "id": "jYcvcPUCZykS"
   },
   "source": [
    "Here we will trim the data set a little to get rid of some of the outliers and make our data more normally distributed in order to get better results. The outliers are ok to get rid of because our sample size are still large enough to conduct the appropriate tests. \n",
    "\n",
    "The following eliminates some of the males and females in the data set to get closer to a more normally distributed data set."
   ]
  },
  {
   "cell_type": "code",
   "execution_count": 13,
   "metadata": {
    "colab": {},
    "colab_type": "code",
    "id": "tRo5L5OaZykT",
    "outputId": "159e7dcb-ffdd-49f4-dc31-5d698ed06ff8"
   },
   "outputs": [
    {
     "name": "stdout",
     "output_type": "stream",
     "text": [
      "<class 'pandas.core.frame.DataFrame'>\n",
      "Int64Index: 4088 entries, 100 to 8377\n",
      "Data columns (total 9 columns):\n",
      "gender      4088 non-null int64\n",
      "age         4088 non-null float64\n",
      "attr1_1     4088 non-null float64\n",
      "sinc1_1     4088 non-null float64\n",
      "intel1_1    4088 non-null float64\n",
      "fun1_1      4088 non-null float64\n",
      "amb1_1      4088 non-null float64\n",
      "shar1_1     4088 non-null float64\n",
      "Check       4088 non-null float64\n",
      "dtypes: float64(8), int64(1)\n",
      "memory usage: 319.4 KB\n",
      "None\n",
      "DescribeResult(nobs=4088, minmax=(6.67, 70.0), mean=25.83442514677104, variance=127.32646803256542, skewness=1.403821008754973, kurtosis=2.2364114945912323)\n"
     ]
    },
    {
     "data": {
      "text/plain": [
       "<matplotlib.axes._subplots.AxesSubplot at 0xcd40780>"
      ]
     },
     "execution_count": 13,
     "metadata": {},
     "output_type": "execute_result"
    },
    {
     "data": {
      "image/png": "[encoded data removed]",
      "text/plain": [
       "<Figure size 432x288 with 1 Axes>"
      ]
     },
     "metadata": {
      "needs_background": "light"
     },
     "output_type": "display_data"
    }
   ],
   "source": [
    "#filters the males\n",
    "_Male = Male[Male['attr1_1']<75]\n",
    "print(_Male.info())\n",
    "print(stats.describe(_Male['attr1_1']))\n",
    "sns.distplot(_Male['attr1_1'])"
   ]
  },
  {
   "cell_type": "code",
   "execution_count": 14,
   "metadata": {
    "colab": {},
    "colab_type": "code",
    "id": "YdhlqWE8Zyke",
    "outputId": "cc692b6d-06ef-46ee-9563-b5f2e95814b5"
   },
   "outputs": [
    {
     "name": "stdout",
     "output_type": "stream",
     "text": [
      "<class 'pandas.core.frame.DataFrame'>\n",
      "Int64Index: 3948 entries, 0 to 7893\n",
      "Data columns (total 9 columns):\n",
      "gender      3948 non-null int64\n",
      "age         3948 non-null float64\n",
      "attr1_1     3948 non-null float64\n",
      "sinc1_1     3948 non-null float64\n",
      "intel1_1    3948 non-null float64\n",
      "fun1_1      3948 non-null float64\n",
      "amb1_1      3948 non-null float64\n",
      "shar1_1     3948 non-null float64\n",
      "Check       3948 non-null float64\n",
      "dtypes: float64(8), int64(1)\n",
      "memory usage: 308.4 KB\n",
      "None\n",
      "DescribeResult(nobs=3948, minmax=(0.0, 45.0), mean=16.710182370820664, variance=42.65370799814872, skewness=1.0510600490915178, kurtosis=2.2680235907910493)\n"
     ]
    },
    {
     "data": {
      "text/plain": [
       "<matplotlib.axes._subplots.AxesSubplot at 0xc861b38>"
      ]
     },
     "execution_count": 14,
     "metadata": {},
     "output_type": "execute_result"
    },
    {
     "data": {
      "image/png": "[encoded data removed]",
      "text/plain": [
       "<Figure size 432x288 with 1 Axes>"
      ]
     },
     "metadata": {
      "needs_background": "light"
     },
     "output_type": "display_data"
    }
   ],
   "source": [
    "#filter the females\n",
    "_Female = Female[Female['attr1_1']<50]\n",
    "print(_Female.info())\n",
    "print(stats.describe(_Female['attr1_1']))\n",
    "sns.distplot(_Female['attr1_1'])"
   ]
  },
  {
   "cell_type": "code",
   "execution_count": 15,
   "metadata": {
    "colab": {},
    "colab_type": "code",
    "id": "88eQ-VwPZyki",
    "outputId": "eacb60e4-17c4-48a7-ab96-acde42e0c87a"
   },
   "outputs": [
    {
     "data": {
      "image/png": "[encoded data removed]",
      "text/plain": [
       "<Figure size 432x288 with 1 Axes>"
      ]
     },
     "metadata": {
      "needs_background": "light"
     },
     "output_type": "display_data"
    }
   ],
   "source": [
    "for i in _Male.columns[2:7]:\n",
    "    _Male[i].hist()\n"
   ]
  },
  {
   "cell_type": "code",
   "execution_count": 16,
   "metadata": {
    "colab": {},
    "colab_type": "code",
    "id": "BJKtaht5Zykk",
    "outputId": "25402f12-fff1-42b9-c9c1-8141090f6c4b"
   },
   "outputs": [
    {
     "data": {
      "image/png": "[encoded data removed]",
      "text/plain": [
       "<Figure size 432x288 with 1 Axes>"
      ]
     },
     "metadata": {
      "needs_background": "light"
     },
     "output_type": "display_data"
    }
   ],
   "source": [
    "for i in _Female.columns[2:7]:\n",
    "    _Female[i].hist()"
   ]
  },
  {
   "cell_type": "markdown",
   "metadata": {
    "colab_type": "text",
    "id": "hhzAaV11Zykn"
   },
   "source": [
    "Now let's examine the skewness and kurtosis again - a good rule of thumb is to to get as close to 0 as possible for the skewneess and kurtosis, so if they're between -3 and 3, the data should be good to conduct tests with."
   ]
  },
  {
   "cell_type": "code",
   "execution_count": 17,
   "metadata": {
    "colab": {},
    "colab_type": "code",
    "id": "Q0aG9jwvZyko",
    "outputId": "160ed630-3a36-418d-c41d-196e49c06b0c"
   },
   "outputs": [
    {
     "data": {
      "text/plain": [
       "DescribeResult(nobs=4088, minmax=(6.67, 70.0), mean=25.83442514677104, variance=127.32646803256542, skewness=1.403821008754973, kurtosis=2.2364114945912323)"
      ]
     },
     "execution_count": 17,
     "metadata": {},
     "output_type": "execute_result"
    }
   ],
   "source": [
    "stats.describe(_Male['attr1_1'])"
   ]
  },
  {
   "cell_type": "code",
   "execution_count": 18,
   "metadata": {
    "colab": {},
    "colab_type": "code",
    "id": "eBs13P79Zykr",
    "outputId": "368cf83d-c8ec-492d-a798-861e31d1fef0"
   },
   "outputs": [
    {
     "data": {
      "text/plain": [
       "DescribeResult(nobs=3948, minmax=(0.0, 45.0), mean=16.710182370820664, variance=42.65370799814872, skewness=1.0510600490915178, kurtosis=2.2680235907910493)"
      ]
     },
     "execution_count": 18,
     "metadata": {},
     "output_type": "execute_result"
    }
   ],
   "source": [
    "stats.describe(_Female['attr1_1'])"
   ]
  },
  {
   "cell_type": "markdown",
   "metadata": {
    "colab_type": "text",
    "id": "rLFWy_hqZyku"
   },
   "source": [
    "Let's run the tests!"
   ]
  },
  {
   "cell_type": "code",
   "execution_count": 19,
   "metadata": {
    "colab": {},
    "colab_type": "code",
    "id": "XXuIKgP6Zyku",
    "outputId": "72013597-a43b-45ba-84b1-058b6e72d79a"
   },
   "outputs": [
    {
     "data": {
      "text/plain": [
       "MannwhitneyuResult(statistic=3523366.0, pvalue=0.0)"
      ]
     },
     "execution_count": 19,
     "metadata": {},
     "output_type": "execute_result"
    }
   ],
   "source": [
    "stats.mannwhitneyu(_Male['attr1_1'], _Female['attr1_1'])"
   ]
  },
  {
   "cell_type": "code",
   "execution_count": 20,
   "metadata": {
    "colab": {},
    "colab_type": "code",
    "id": "28ENQAZSZyky",
    "outputId": "d12e7c51-d70f-43f3-fc17-dc8afe23547d"
   },
   "outputs": [
    {
     "data": {
      "text/plain": [
       "KruskalResult(statistic=1936.7750942469384, pvalue=0.0)"
      ]
     },
     "execution_count": 20,
     "metadata": {},
     "output_type": "execute_result"
    }
   ],
   "source": [
    "stats.kruskal(_Male['attr1_1'], _Female['attr1_1'])"
   ]
  },
  {
   "cell_type": "code",
   "execution_count": 21,
   "metadata": {
    "colab": {},
    "colab_type": "code",
    "id": "0FeDo6XPZyk1",
    "outputId": "c8a5222f-36d2-49d8-8c9d-3db5197a7b2b"
   },
   "outputs": [
    {
     "data": {
      "text/plain": [
       "KruskalResult(statistic=1936.7750942469384, pvalue=0.0)"
      ]
     },
     "execution_count": 21,
     "metadata": {},
     "output_type": "execute_result"
    }
   ],
   "source": [
    "stats.kruskal(_Male['attr1_1'], _Female['attr1_1'])"
   ]
  },
  {
   "cell_type": "markdown",
   "metadata": {
    "colab_type": "text",
    "id": "FT_MODSsZyk5"
   },
   "source": [
    "As we can see the p value is very low - we can reject the null hypothesis. There is significant evidence to say that we accept the alternative hypothesis and reject the null hypothesis. In other words, there is signficant evidence to say that males overall tend to seek attractiveness in a partner versus females who are less likely than males to seek attractiveness.\n",
    "\n",
    "Reexamining the data - in the Boxplot which compares all the attributes to each other by Gender, males tend to look for attractiveness for their potentail partners versus the other characteristics. Females tend to almost have an overall balanced or even out distribution of points (on average) to the different characteristics, but intelligence appears to make it's way more on top of the other characteristics."
   ]
  }
 ],
 "metadata": {
  "colab": {
   "collapsed_sections": [],
   "name": "Dating_Attributes.ipynb",
   "provenance": []
  },
  "kernelspec": {
   "display_name": "Python 3",
   "language": "python",
   "name": "python3"
  },
  "language_info": {
   "codemirror_mode": {
    "name": "ipython",
    "version": 3
   },
   "file_extension": ".py",
   "mimetype": "text/x-python",
   "name": "python",
   "nbconvert_exporter": "python",
   "pygments_lexer": "ipython3",
   "version": "3.7.3"
  }
 },
 "nbformat": 4,
 "nbformat_minor": 1
}
